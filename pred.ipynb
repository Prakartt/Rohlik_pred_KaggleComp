{
 "cells": [
  {
   "cell_type": "code",
   "execution_count": 2,
   "metadata": {},
   "outputs": [],
   "source": [
    "import pandas as pd \n",
    "import numpy as np \n",
    "import seaborn as sns \n",
    "import matplotlib.pyplot as plt \n",
    "import plotly.express as px \n",
    "from sklearn.model_selection import train_test_split, GridSearchCV, TimeSeriesSplit\n",
    "from sklearn.preprocessing import StandardScaler, LabelEncoder\n",
    "from sklearn.metrics import mean_squared_error\n",
    "from xgboost import XGBRegressor\n",
    "from sklearn.model_selection import train_test_split, KFold\n",
    "from lightgbm import LGBMRegressor\n",
    "from scipy.optimize import minimize\n",
    "# from skopt import BayesSearchCV\n",
    "from sklearn.ensemble import RandomForestRegressor\n",
    "from sklearn.feature_selection import SelectKBest, f_regression\n",
    "from catboost import CatBoostRegressor\n",
    "from xgboost import XGBRegressor\n",
    "from lightgbm import LGBMRegressor\n",
    "from sklearn.ensemble import GradientBoostingRegressor\n",
    "from sklearn.metrics import mean_absolute_percentage_error, r2_score\n",
    "from IPython.display import display, HTML\n",
    "import io\n",
    "import random"
   ]
  },
  {
   "cell_type": "code",
   "execution_count": 4,
   "metadata": {},
   "outputs": [],
   "source": [
    "train_data_path = 'data/train.csv'\n",
    "test_data_path = 'data/test.csv'\n",
    "\n",
    "\n",
    "train_df = pd.read_csv(train_data_path)\n",
    "test_df = pd.read_csv(test_data_path)"
   ]
  },
  {
   "cell_type": "code",
   "execution_count": 5,
   "metadata": {},
   "outputs": [
    {
     "name": "stdout",
     "output_type": "stream",
     "text": [
      "<class 'pandas.core.frame.DataFrame'>\n",
      "RangeIndex: 7340 entries, 0 to 7339\n",
      "Data columns (total 18 columns):\n",
      " #   Column                  Non-Null Count  Dtype  \n",
      "---  ------                  --------------  -----  \n",
      " 0   warehouse               7340 non-null   object \n",
      " 1   date                    7340 non-null   object \n",
      " 2   orders                  7340 non-null   float64\n",
      " 3   holiday_name            218 non-null    object \n",
      " 4   holiday                 7340 non-null   int64  \n",
      " 5   shutdown                7340 non-null   int64  \n",
      " 6   mini_shutdown           7340 non-null   int64  \n",
      " 7   shops_closed            7340 non-null   int64  \n",
      " 8   winter_school_holidays  7340 non-null   int64  \n",
      " 9   school_holidays         7340 non-null   int64  \n",
      " 10  blackout                7340 non-null   int64  \n",
      " 11  mov_change              7340 non-null   float64\n",
      " 12  frankfurt_shutdown      7340 non-null   int64  \n",
      " 13  precipitation           7070 non-null   float64\n",
      " 14  snow                    7070 non-null   float64\n",
      " 15  user_activity_1         7340 non-null   float64\n",
      " 16  user_activity_2         7340 non-null   float64\n",
      " 17  id                      7340 non-null   object \n",
      "dtypes: float64(6), int64(8), object(4)\n",
      "memory usage: 1.0+ MB\n"
     ]
    }
   ],
   "source": [
    "train_df.info()"
   ]
  },
  {
   "cell_type": "code",
   "execution_count": 11,
   "metadata": {},
   "outputs": [
    {
     "data": {
      "text/plain": [
       "warehouse                    0\n",
       "date                         0\n",
       "orders                       0\n",
       "holiday_name              7122\n",
       "holiday                      0\n",
       "shutdown                     0\n",
       "mini_shutdown                0\n",
       "shops_closed                 0\n",
       "winter_school_holidays       0\n",
       "school_holidays              0\n",
       "blackout                     0\n",
       "mov_change                   0\n",
       "frankfurt_shutdown           0\n",
       "precipitation              270\n",
       "snow                       270\n",
       "user_activity_1              0\n",
       "user_activity_2              0\n",
       "id                           0\n",
       "dtype: int64"
      ]
     },
     "execution_count": 11,
     "metadata": {},
     "output_type": "execute_result"
    }
   ],
   "source": [
    "train_df.isnull().sum()"
   ]
  },
  {
   "cell_type": "code",
   "execution_count": null,
   "metadata": {},
   "outputs": [],
   "source": []
  }
 ],
 "metadata": {
  "kernelspec": {
   "display_name": "Python 3",
   "language": "python",
   "name": "python3"
  },
  "language_info": {
   "codemirror_mode": {
    "name": "ipython",
    "version": 3
   },
   "file_extension": ".py",
   "mimetype": "text/x-python",
   "name": "python",
   "nbconvert_exporter": "python",
   "pygments_lexer": "ipython3",
   "version": "3.12.4"
  }
 },
 "nbformat": 4,
 "nbformat_minor": 2
}
